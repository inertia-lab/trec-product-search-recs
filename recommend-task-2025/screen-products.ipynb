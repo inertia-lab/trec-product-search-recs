{
 "cells": [
  {
   "cell_type": "markdown",
   "id": "b1e05d70",
   "metadata": {},
   "source": [
    "# Product Screening\n",
    "\n",
    "This notebook screens products."
   ]
  },
  {
   "cell_type": "code",
   "execution_count": 2,
   "id": "a8bfb323",
   "metadata": {},
   "outputs": [],
   "source": [
    "import duckdb\n",
    "import pandas as pd\n",
    "import seaborn as sns\n",
    "import matplotlib.pyplot as plt"
   ]
  },
  {
   "cell_type": "code",
   "execution_count": 3,
   "id": "cca1a221",
   "metadata": {},
   "outputs": [],
   "source": [
    "db = duckdb.connect()"
   ]
  },
  {
   "cell_type": "code",
   "execution_count": 4,
   "id": "ecddb2b0",
   "metadata": {},
   "outputs": [
    {
     "data": {
      "text/html": [
       "<span style=\"None\">Tip: You may define configurations in /pit/trec/trec-product-search-recs/pyproject.toml or /home/mde48/.jupysql/config. </span>"
      ],
      "text/plain": [
       "Tip: You may define configurations in /pit/trec/trec-product-search-recs/pyproject.toml or /home/mde48/.jupysql/config. "
      ]
     },
     "metadata": {},
     "output_type": "display_data"
    },
    {
     "data": {
      "text/html": [
       "Please review our <a href='https://jupysql.ploomber.io/en/latest/api/configuration.html#loading-from-a-file'>configuration guideline</a>."
      ],
      "text/plain": [
       "<IPython.core.display.HTML object>"
      ]
     },
     "metadata": {},
     "output_type": "display_data"
    },
    {
     "data": {
      "text/html": [
       "<span style=\"None\">Did not find user configurations in /pit/trec/trec-product-search-recs/pyproject.toml.</span>"
      ],
      "text/plain": [
       "Did not find user configurations in /pit/trec/trec-product-search-recs/pyproject.toml."
      ]
     },
     "metadata": {},
     "output_type": "display_data"
    }
   ],
   "source": [
    "%load_ext sql\n",
    "%sql db --alias duckdb"
   ]
  },
  {
   "cell_type": "code",
   "execution_count": 5,
   "id": "c598c116",
   "metadata": {},
   "outputs": [
    {
     "data": {
      "text/html": [
       "<span style=\"None\">Running query in &#x27;duckdb&#x27;</span>"
      ],
      "text/plain": [
       "Running query in 'duckdb'"
      ]
     },
     "metadata": {},
     "output_type": "display_data"
    },
    {
     "data": {
      "text/html": [
       "<table>\n",
       "    <thead>\n",
       "        <tr>\n",
       "            <th>Success</th>\n",
       "        </tr>\n",
       "    </thead>\n",
       "    <tbody>\n",
       "    </tbody>\n",
       "</table>"
      ],
      "text/plain": [
       "+---------+\n",
       "| Success |\n",
       "+---------+\n",
       "+---------+"
      ]
     },
     "execution_count": 5,
     "metadata": {},
     "output_type": "execute_result"
    }
   ],
   "source": [
    "%%sql\n",
    "ATTACH 'ucsd-products.duckdb' AS rd (READ_ONLY);"
   ]
  },
  {
   "cell_type": "markdown",
   "id": "201d630c",
   "metadata": {},
   "source": [
    "## Initial Statistics"
   ]
  },
  {
   "cell_type": "code",
   "execution_count": 6,
   "id": "633c726c",
   "metadata": {},
   "outputs": [
    {
     "data": {
      "text/html": [
       "<span style=\"None\">Running query in &#x27;duckdb&#x27;</span>"
      ],
      "text/plain": [
       "Running query in 'duckdb'"
      ]
     },
     "metadata": {},
     "output_type": "display_data"
    },
    {
     "data": {
      "text/html": [
       "<table>\n",
       "    <thead>\n",
       "        <tr>\n",
       "            <th>category</th>\n",
       "            <th>n_products</th>\n",
       "            <th>dc</th>\n",
       "            <th>dlen</th>\n",
       "            <th>med_ratings</th>\n",
       "        </tr>\n",
       "    </thead>\n",
       "    <tbody>\n",
       "        <tr>\n",
       "            <td>Software</td>\n",
       "            <td>89251</td>\n",
       "            <td>1.0</td>\n",
       "            <td>603.0</td>\n",
       "            <td>12.0</td>\n",
       "        </tr>\n",
       "        <tr>\n",
       "            <td>All_Beauty</td>\n",
       "            <td>112590</td>\n",
       "            <td>0.0</td>\n",
       "            <td>0.0</td>\n",
       "            <td>9.0</td>\n",
       "        </tr>\n",
       "        <tr>\n",
       "            <td>Baby_Products</td>\n",
       "            <td>217724</td>\n",
       "            <td>1.0</td>\n",
       "            <td>21.0</td>\n",
       "            <td>19.0</td>\n",
       "        </tr>\n",
       "        <tr>\n",
       "            <td>Unknown</td>\n",
       "            <td>390006</td>\n",
       "            <td>0.0</td>\n",
       "            <td>0.0</td>\n",
       "            <td>3.0</td>\n",
       "        </tr>\n",
       "        <tr>\n",
       "            <td>Industrial_and_Scientific</td>\n",
       "            <td>427564</td>\n",
       "            <td>1.0</td>\n",
       "            <td>68.0</td>\n",
       "            <td>8.0</td>\n",
       "        </tr>\n",
       "        <tr>\n",
       "            <td>Appliances</td>\n",
       "            <td>94327</td>\n",
       "            <td>1.0</td>\n",
       "            <td>25.0</td>\n",
       "            <td>13.0</td>\n",
       "        </tr>\n",
       "        <tr>\n",
       "            <td>Patio_Lawn_and_Garden</td>\n",
       "            <td>851907</td>\n",
       "            <td>1.0</td>\n",
       "            <td>53.0</td>\n",
       "            <td>14.0</td>\n",
       "        </tr>\n",
       "        <tr>\n",
       "            <td>Subscription_Boxes</td>\n",
       "            <td>641</td>\n",
       "            <td>0.0</td>\n",
       "            <td>0.0</td>\n",
       "            <td>42.0</td>\n",
       "        </tr>\n",
       "        <tr>\n",
       "            <td>Toys_and_Games</td>\n",
       "            <td>890874</td>\n",
       "            <td>1.0</td>\n",
       "            <td>53.0</td>\n",
       "            <td>20.0</td>\n",
       "        </tr>\n",
       "        <tr>\n",
       "            <td>Movies_and_TV</td>\n",
       "            <td>748224</td>\n",
       "            <td>1.0</td>\n",
       "            <td>0.0</td>\n",
       "            <td>60.0</td>\n",
       "        </tr>\n",
       "    </tbody>\n",
       "</table>\n",
       "<span style=\"font-style:italic;text-align:center;\">Truncated to <a href=\"https://jupysql.ploomber.io/en/latest/api/configuration.html#displaylimit\">displaylimit</a> of 10.</span>"
      ],
      "text/plain": [
       "+---------------------------+------------+-----+-------+-------------+\n",
       "|          category         | n_products |  dc |  dlen | med_ratings |\n",
       "+---------------------------+------------+-----+-------+-------------+\n",
       "|          Software         |   89251    | 1.0 | 603.0 |     12.0    |\n",
       "|         All_Beauty        |   112590   | 0.0 |  0.0  |     9.0     |\n",
       "|       Baby_Products       |   217724   | 1.0 |  21.0 |     19.0    |\n",
       "|          Unknown          |   390006   | 0.0 |  0.0  |     3.0     |\n",
       "| Industrial_and_Scientific |   427564   | 1.0 |  68.0 |     8.0     |\n",
       "|         Appliances        |   94327    | 1.0 |  25.0 |     13.0    |\n",
       "|   Patio_Lawn_and_Garden   |   851907   | 1.0 |  53.0 |     14.0    |\n",
       "|     Subscription_Boxes    |    641     | 0.0 |  0.0  |     42.0    |\n",
       "|       Toys_and_Games      |   890874   | 1.0 |  53.0 |     20.0    |\n",
       "|       Movies_and_TV       |   748224   | 1.0 |  0.0  |     60.0    |\n",
       "+---------------------------+------------+-----+-------+-------------+\n",
       "Truncated to displaylimit of 10."
      ]
     },
     "execution_count": 6,
     "metadata": {},
     "output_type": "execute_result"
    }
   ],
   "source": [
    "%%sql\n",
    "SELECT category, COUNT(asin) AS n_products,\n",
    "    MEDIAN(n_desc_entries) AS dc, \n",
    "    MEDIAN(COALESCE(desc_len, 0)) AS dlen,\n",
    "    MEDIAN(rating_count) AS med_ratings\n",
    "FROM rd.products\n",
    "GROUP BY category"
   ]
  },
  {
   "cell_type": "markdown",
   "id": "6b87636c",
   "metadata": {},
   "source": [
    "## Viable Categories\n",
    "\n",
    "Mark some categories as *conceptually* viable."
   ]
  },
  {
   "cell_type": "code",
   "execution_count": 7,
   "id": "01e67f5c",
   "metadata": {},
   "outputs": [
    {
     "data": {
      "text/html": [
       "<span style=\"None\">Running query in &#x27;duckdb&#x27;</span>"
      ],
      "text/plain": [
       "Running query in 'duckdb'"
      ]
     },
     "metadata": {},
     "output_type": "display_data"
    },
    {
     "data": {
      "text/html": [
       "<table>\n",
       "    <thead>\n",
       "        <tr>\n",
       "            <th>Count</th>\n",
       "        </tr>\n",
       "    </thead>\n",
       "    <tbody>\n",
       "    </tbody>\n",
       "</table>"
      ],
      "text/plain": [
       "+-------+\n",
       "| Count |\n",
       "+-------+\n",
       "+-------+"
      ]
     },
     "execution_count": 7,
     "metadata": {},
     "output_type": "execute_result"
    }
   ],
   "source": [
    "%%sql\n",
    "CREATE OR REPLACE TABLE face_cats (\n",
    "    category VARCHAR NOT NULL\n",
    ")"
   ]
  },
  {
   "cell_type": "code",
   "execution_count": 8,
   "id": "b8a7c1ba",
   "metadata": {},
   "outputs": [],
   "source": [
    "face_cats = [\n",
    "    'Electronics',\n",
    "    'Health_and_Household',\n",
    "    'Home_and_Kitchen',\n",
    "    'Cell_Phones_and_Accessories',\n",
    "    'Office_Products',\n",
    "    'Patio_Lawn_and_Garden',\n",
    "    'Sports_and_Outdoors',\n",
    "    'Tools_and_Home_Improvement',\n",
    "]\n",
    "for cat in face_cats:\n",
    "    db.execute('INSERT INTO face_cats VALUES (?)', [cat])"
   ]
  },
  {
   "cell_type": "markdown",
   "id": "0d19a46a",
   "metadata": {},
   "source": [
    "## Initial Filtering"
   ]
  },
  {
   "cell_type": "code",
   "execution_count": 19,
   "id": "5290d996",
   "metadata": {},
   "outputs": [
    {
     "data": {
      "text/html": [
       "<span style=\"None\">Running query in &#x27;duckdb&#x27;</span>"
      ],
      "text/plain": [
       "Running query in 'duckdb'"
      ]
     },
     "metadata": {},
     "output_type": "display_data"
    },
    {
     "data": {
      "text/html": [
       "<table>\n",
       "    <thead>\n",
       "        <tr>\n",
       "            <th>Count</th>\n",
       "        </tr>\n",
       "    </thead>\n",
       "    <tbody>\n",
       "    </tbody>\n",
       "</table>"
      ],
      "text/plain": [
       "+-------+\n",
       "| Count |\n",
       "+-------+\n",
       "+-------+"
      ]
     },
     "execution_count": 19,
     "metadata": {},
     "output_type": "execute_result"
    }
   ],
   "source": [
    "%%sql\n",
    "CREATE OR REPLACE VIEW maybe_products AS\n",
    "SELECT prod_id, asin\n",
    "FROM rd.products\n",
    "JOIN face_cats USING (category)\n",
    "WHERE asin IN (\n",
    "    SELECT asin FROM rd.esci_products\n",
    "    -- UNION DISTINCT\n",
    "    -- SELECT asin FROM rd.m2_products\n",
    ")\n",
    "AND rating_count >= 10\n",
    "AND desc_len > 50"
   ]
  },
  {
   "cell_type": "code",
   "execution_count": 20,
   "id": "365f0bb2",
   "metadata": {},
   "outputs": [
    {
     "data": {
      "text/html": [
       "<span style=\"None\">Running query in &#x27;duckdb&#x27;</span>"
      ],
      "text/plain": [
       "Running query in 'duckdb'"
      ]
     },
     "metadata": {},
     "output_type": "display_data"
    },
    {
     "data": {
      "text/html": [
       "<table>\n",
       "    <thead>\n",
       "        <tr>\n",
       "            <th>category</th>\n",
       "            <th>n_products</th>\n",
       "            <th>desc_len</th>\n",
       "            <th>med_ratings</th>\n",
       "        </tr>\n",
       "    </thead>\n",
       "    <tbody>\n",
       "        <tr>\n",
       "            <td>Home_and_Kitchen</td>\n",
       "            <td>23386</td>\n",
       "            <td>387.0</td>\n",
       "            <td>204.0</td>\n",
       "        </tr>\n",
       "        <tr>\n",
       "            <td>Electronics</td>\n",
       "            <td>12938</td>\n",
       "            <td>449.0</td>\n",
       "            <td>209.0</td>\n",
       "        </tr>\n",
       "        <tr>\n",
       "            <td>Sports_and_Outdoors</td>\n",
       "            <td>11613</td>\n",
       "            <td>384.0</td>\n",
       "            <td>181.0</td>\n",
       "        </tr>\n",
       "        <tr>\n",
       "            <td>Health_and_Household</td>\n",
       "            <td>10831</td>\n",
       "            <td>412.0</td>\n",
       "            <td>517.0</td>\n",
       "        </tr>\n",
       "        <tr>\n",
       "            <td>Tools_and_Home_Improvement</td>\n",
       "            <td>10453</td>\n",
       "            <td>402.0</td>\n",
       "            <td>184.0</td>\n",
       "        </tr>\n",
       "        <tr>\n",
       "            <td>Patio_Lawn_and_Garden</td>\n",
       "            <td>6919</td>\n",
       "            <td>424.0</td>\n",
       "            <td>219.0</td>\n",
       "        </tr>\n",
       "        <tr>\n",
       "            <td>Office_Products</td>\n",
       "            <td>6302</td>\n",
       "            <td>361.0</td>\n",
       "            <td>243.0</td>\n",
       "        </tr>\n",
       "        <tr>\n",
       "            <td>Cell_Phones_and_Accessories</td>\n",
       "            <td>3056</td>\n",
       "            <td>360.0</td>\n",
       "            <td>303.0</td>\n",
       "        </tr>\n",
       "    </tbody>\n",
       "</table>"
      ],
      "text/plain": [
       "+-----------------------------+------------+----------+-------------+\n",
       "|           category          | n_products | desc_len | med_ratings |\n",
       "+-----------------------------+------------+----------+-------------+\n",
       "|       Home_and_Kitchen      |   23386    |  387.0   |    204.0    |\n",
       "|         Electronics         |   12938    |  449.0   |    209.0    |\n",
       "|     Sports_and_Outdoors     |   11613    |  384.0   |    181.0    |\n",
       "|     Health_and_Household    |   10831    |  412.0   |    517.0    |\n",
       "|  Tools_and_Home_Improvement |   10453    |  402.0   |    184.0    |\n",
       "|    Patio_Lawn_and_Garden    |    6919    |  424.0   |    219.0    |\n",
       "|       Office_Products       |    6302    |  361.0   |    243.0    |\n",
       "| Cell_Phones_and_Accessories |    3056    |  360.0   |    303.0    |\n",
       "+-----------------------------+------------+----------+-------------+"
      ]
     },
     "execution_count": 20,
     "metadata": {},
     "output_type": "execute_result"
    }
   ],
   "source": [
    "%%sql\n",
    "SELECT category, COUNT(p.asin) AS n_products,\n",
    "    MEDIAN(COALESCE(desc_len, 0)) AS desc_len,\n",
    "    MEDIAN(rating_count) AS med_ratings\n",
    "FROM rd.products p\n",
    "JOIN maybe_products USING (prod_id)\n",
    "GROUP BY category\n",
    "ORDER BY n_products DESC"
   ]
  },
  {
   "cell_type": "markdown",
   "id": "a60a7e32",
   "metadata": {},
   "source": [
    "## Add Co-occurrance Filters\n",
    "\n",
    "Now we're going to use the 5-core to see how many co-occurrances items in this set have."
   ]
  },
  {
   "cell_type": "code",
   "execution_count": 21,
   "id": "558ae3c6",
   "metadata": {},
   "outputs": [
    {
     "data": {
      "text/plain": [
       "<duckdb.duckdb.DuckDBPyConnection at 0x7cc734ee36f0>"
      ]
     },
     "execution_count": 21,
     "metadata": {},
     "output_type": "execute_result"
    }
   ],
   "source": [
    "ic_queries = ' UNION ALL '.join(\n",
    "    f\"\"\"\n",
    "    SELECT user_id, parent_asin AS asin, rating, timestamp\n",
    "    FROM 'ucsd-2023/5core/{cat}.csv.gz'\n",
    "    \"\"\"\n",
    "    for cat in face_cats\n",
    ")\n",
    "db.execute(f'CREATE OR REPLACE VIEW item_rates AS {ic_queries}')"
   ]
  },
  {
   "cell_type": "code",
   "execution_count": 22,
   "id": "7dded23c",
   "metadata": {},
   "outputs": [
    {
     "data": {
      "text/html": [
       "<span style=\"None\">Running query in &#x27;duckdb&#x27;</span>"
      ],
      "text/plain": [
       "Running query in 'duckdb'"
      ]
     },
     "metadata": {},
     "output_type": "display_data"
    },
    {
     "data": {
      "text/html": [
       "<table>\n",
       "    <thead>\n",
       "        <tr>\n",
       "            <th>Count</th>\n",
       "        </tr>\n",
       "    </thead>\n",
       "    <tbody>\n",
       "        <tr>\n",
       "            <td>7909376</td>\n",
       "        </tr>\n",
       "    </tbody>\n",
       "</table>"
      ],
      "text/plain": [
       "+---------+\n",
       "|  Count  |\n",
       "+---------+\n",
       "| 7909376 |\n",
       "+---------+"
      ]
     },
     "execution_count": 22,
     "metadata": {},
     "output_type": "execute_result"
    }
   ],
   "source": [
    "%%sql\n",
    "CREATE OR REPLACE TABLE item_corates AS\n",
    "SELECT mp1.prod_id AS prod1, mp2.prod_id AS prod2, COUNT(*) AS n_corates\n",
    "FROM item_rates r1\n",
    "JOIN maybe_products mp1 ON (mp1.asin = r1.asin)\n",
    "JOIN item_rates r2 USING (user_id)\n",
    "JOIN maybe_products mp2 ON (mp2.asin = r2.asin)\n",
    "WHERE mp1.prod_id != mp2.prod_id\n",
    "GROUP BY mp1.prod_id, mp2.prod_id"
   ]
  },
  {
   "cell_type": "code",
   "execution_count": 23,
   "id": "78c06809",
   "metadata": {},
   "outputs": [
    {
     "data": {
      "text/html": [
       "<span style=\"None\">Running query in &#x27;duckdb&#x27;</span>"
      ],
      "text/plain": [
       "Running query in 'duckdb'"
      ]
     },
     "metadata": {},
     "output_type": "display_data"
    },
    {
     "data": {
      "text/html": [
       "<table>\n",
       "    <thead>\n",
       "        <tr>\n",
       "            <th>category</th>\n",
       "            <th>n_products</th>\n",
       "            <th>desc_len</th>\n",
       "            <th>med_ratings</th>\n",
       "            <th>med_corated</th>\n",
       "        </tr>\n",
       "    </thead>\n",
       "    <tbody>\n",
       "        <tr>\n",
       "            <td>Home_and_Kitchen</td>\n",
       "            <td>23386</td>\n",
       "            <td>387.0</td>\n",
       "            <td>204.0</td>\n",
       "            <td>35.0</td>\n",
       "        </tr>\n",
       "        <tr>\n",
       "            <td>Electronics</td>\n",
       "            <td>12938</td>\n",
       "            <td>449.0</td>\n",
       "            <td>209.0</td>\n",
       "            <td>49.0</td>\n",
       "        </tr>\n",
       "        <tr>\n",
       "            <td>Sports_and_Outdoors</td>\n",
       "            <td>11613</td>\n",
       "            <td>384.0</td>\n",
       "            <td>181.0</td>\n",
       "            <td>40.0</td>\n",
       "        </tr>\n",
       "        <tr>\n",
       "            <td>Health_and_Household</td>\n",
       "            <td>10831</td>\n",
       "            <td>412.0</td>\n",
       "            <td>517.0</td>\n",
       "            <td>80.0</td>\n",
       "        </tr>\n",
       "        <tr>\n",
       "            <td>Tools_and_Home_Improvement</td>\n",
       "            <td>10453</td>\n",
       "            <td>402.0</td>\n",
       "            <td>184.0</td>\n",
       "            <td>53.0</td>\n",
       "        </tr>\n",
       "        <tr>\n",
       "            <td>Patio_Lawn_and_Garden</td>\n",
       "            <td>6919</td>\n",
       "            <td>424.0</td>\n",
       "            <td>219.0</td>\n",
       "            <td>61.0</td>\n",
       "        </tr>\n",
       "        <tr>\n",
       "            <td>Office_Products</td>\n",
       "            <td>6302</td>\n",
       "            <td>361.0</td>\n",
       "            <td>243.0</td>\n",
       "            <td>59.0</td>\n",
       "        </tr>\n",
       "        <tr>\n",
       "            <td>Cell_Phones_and_Accessories</td>\n",
       "            <td>3056</td>\n",
       "            <td>360.0</td>\n",
       "            <td>303.0</td>\n",
       "            <td>34.0</td>\n",
       "        </tr>\n",
       "    </tbody>\n",
       "</table>"
      ],
      "text/plain": [
       "+-----------------------------+------------+----------+-------------+-------------+\n",
       "|           category          | n_products | desc_len | med_ratings | med_corated |\n",
       "+-----------------------------+------------+----------+-------------+-------------+\n",
       "|       Home_and_Kitchen      |   23386    |  387.0   |    204.0    |     35.0    |\n",
       "|         Electronics         |   12938    |  449.0   |    209.0    |     49.0    |\n",
       "|     Sports_and_Outdoors     |   11613    |  384.0   |    181.0    |     40.0    |\n",
       "|     Health_and_Household    |   10831    |  412.0   |    517.0    |     80.0    |\n",
       "|  Tools_and_Home_Improvement |   10453    |  402.0   |    184.0    |     53.0    |\n",
       "|    Patio_Lawn_and_Garden    |    6919    |  424.0   |    219.0    |     61.0    |\n",
       "|       Office_Products       |    6302    |  361.0   |    243.0    |     59.0    |\n",
       "| Cell_Phones_and_Accessories |    3056    |  360.0   |    303.0    |     34.0    |\n",
       "+-----------------------------+------------+----------+-------------+-------------+"
      ]
     },
     "execution_count": 23,
     "metadata": {},
     "output_type": "execute_result"
    }
   ],
   "source": [
    "%%sql\n",
    "SELECT category, COUNT(p.asin) AS n_products,\n",
    "    MEDIAN(COALESCE(desc_len, 0)) AS desc_len,\n",
    "    MEDIAN(rating_count) AS med_ratings,\n",
    "    MEDIAN(n_corates) AS med_corated,\n",
    "FROM rd.products p\n",
    "JOIN maybe_products USING (prod_id)\n",
    "LEFT JOIN (\n",
    "    SELECT prod1 AS prod_id, COUNT(prod2) AS n_corates\n",
    "    FROM item_corates\n",
    "    GROUP BY prod1\n",
    ") USING (prod_id)\n",
    "GROUP BY category\n",
    "ORDER BY n_products DESC"
   ]
  },
  {
   "cell_type": "markdown",
   "id": "1759cce4",
   "metadata": {},
   "source": []
  }
 ],
 "metadata": {
  "kernelspec": {
   "display_name": ".venv",
   "language": "python",
   "name": "python3"
  },
  "language_info": {
   "codemirror_mode": {
    "name": "ipython",
    "version": 3
   },
   "file_extension": ".py",
   "mimetype": "text/x-python",
   "name": "python",
   "nbconvert_exporter": "python",
   "pygments_lexer": "ipython3",
   "version": "3.12.9"
  }
 },
 "nbformat": 4,
 "nbformat_minor": 5
}
